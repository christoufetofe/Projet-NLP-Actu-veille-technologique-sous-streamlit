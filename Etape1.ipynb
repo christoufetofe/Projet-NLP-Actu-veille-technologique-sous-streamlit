{
 "cells": [
  {
   "cell_type": "code",
   "execution_count": 12,
   "id": "d699348a",
   "metadata": {},
   "outputs": [],
   "source": [
    "import pickle\n",
    "from pathlib import Path\n",
    "\n",
    "import streamlit_authenticator as stauth\n",
    "\n",
    "names = [\"admin\", \"Sergent Chef\"]\n",
    "usernames = [\"admin\", \"SCH\"]\n",
    "passwords = [\"XXX\", \"XXX\"]\n",
    "\n",
    "hashed_passwords = stauth.Hasher(passwords).generate()\n",
    "\n",
    "\n",
    "    \n",
    "pickle.dump( hashed_passwords, open( \"hashed_pw.pkl\", \"wb\" ) )"
   ]
  },
  {
   "cell_type": "code",
   "execution_count": null,
   "id": "bec6c162",
   "metadata": {},
   "outputs": [],
   "source": []
  }
 ],
 "metadata": {
  "kernelspec": {
   "display_name": "Python 3 (ipykernel)",
   "language": "python",
   "name": "python3"
  },
  "language_info": {
   "codemirror_mode": {
    "name": "ipython",
    "version": 3
   },
   "file_extension": ".py",
   "mimetype": "text/x-python",
   "name": "python",
   "nbconvert_exporter": "python",
   "pygments_lexer": "ipython3",
   "version": "3.9.16"
  }
 },
 "nbformat": 4,
 "nbformat_minor": 5
}
